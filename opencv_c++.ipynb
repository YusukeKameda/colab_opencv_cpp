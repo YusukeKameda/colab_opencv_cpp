{
  "nbformat": 4,
  "nbformat_minor": 0,
  "metadata": {
    "colab": {
      "provenance": [],
      "authorship_tag": "ABX9TyMTp0b8tsF4D/wRda0dtma2",
      "include_colab_link": true
    },
    "kernelspec": {
      "name": "python3",
      "display_name": "Python 3"
    },
    "language_info": {
      "name": "python"
    }
  },
  "cells": [
    {
      "cell_type": "markdown",
      "metadata": {
        "id": "view-in-github",
        "colab_type": "text"
      },
      "source": [
        "<a href=\"https://colab.research.google.com/github/YusukeKameda/colab_opencv_cpp/blob/main/opencv_c%2B%2B.ipynb\" target=\"_parent\"><img src=\"https://colab.research.google.com/assets/colab-badge.svg\" alt=\"Open In Colab\"/></a>"
      ]
    },
    {
      "cell_type": "code",
      "execution_count": 7,
      "metadata": {
        "colab": {
          "base_uri": "https://localhost:8080/"
        },
        "id": "FeezS_hpWg6K",
        "outputId": "be584f3e-d7a1-4354-9ab2-242a3ecc16b7"
      },
      "outputs": [
        {
          "output_type": "stream",
          "name": "stdout",
          "text": [
            "Reading package lists... Done\n",
            "Building dependency tree... Done\n",
            "Reading state information... Done\n",
            "libopencv-dev is already the newest version (4.5.4+dfsg-9ubuntu4).\n",
            "0 upgraded, 0 newly installed, 0 to remove and 19 not upgraded.\n"
          ]
        }
      ],
      "source": [
        "!apt install libopencv-dev"
      ]
    },
    {
      "cell_type": "markdown",
      "source": [
        "https://docs.opencv.org/4.x/db/df5/tutorial_linux_gcc_cmake.html"
      ],
      "metadata": {
        "id": "BKek92IKW3Xb"
      }
    },
    {
      "cell_type": "code",
      "source": [
        "%%writefile CMakeLists.txt\n",
        "cmake_minimum_required(VERSION 2.8)\n",
        "project( DisplayImage )\n",
        "find_package( OpenCV REQUIRED )\n",
        "include_directories( ${OpenCV_INCLUDE_DIRS} )\n",
        "add_executable( DisplayImage DisplayImage.cpp )\n",
        "target_link_libraries( DisplayImage ${OpenCV_LIBS} )"
      ],
      "metadata": {
        "colab": {
          "base_uri": "https://localhost:8080/"
        },
        "id": "vZ-tAc6YWlf-",
        "outputId": "3122305b-a9d0-41ec-bab7-50084f56c74d"
      },
      "execution_count": 8,
      "outputs": [
        {
          "output_type": "stream",
          "name": "stdout",
          "text": [
            "Overwriting CMakeLists.txt\n"
          ]
        }
      ]
    },
    {
      "cell_type": "code",
      "source": [
        "%%writefile DisplayImage.cpp\n",
        "#include <stdio.h>\n",
        "#include <opencv2/opencv.hpp>\n",
        "using namespace cv;\n",
        "int main(int argc, char** argv )\n",
        "{\n",
        "    if ( argc != 2 )\n",
        "    {\n",
        "        printf(\"usage: DisplayImage.out <Image_Path>\\n\");\n",
        "        return -1;\n",
        "    }\n",
        "    Mat image;\n",
        "    image = imread( argv[1], IMREAD_COLOR );\n",
        "    if ( !image.data )\n",
        "    {\n",
        "        printf(\"No image data \\n\");\n",
        "        return -1;\n",
        "    }\n",
        "//    namedWindow(\"Display Image\", WINDOW_AUTOSIZE );\n",
        "//    imshow(\"Display Image\", image);\n",
        "    imwrite(\"DisplayImage.png\", image);\n",
        "    return 0;\n",
        "}"
      ],
      "metadata": {
        "colab": {
          "base_uri": "https://localhost:8080/"
        },
        "id": "90CxsVnUYZnb",
        "outputId": "f17efd5f-8d65-49f4-f722-c6a043b6d505"
      },
      "execution_count": 9,
      "outputs": [
        {
          "output_type": "stream",
          "name": "stdout",
          "text": [
            "Writing DisplayImage.cpp\n"
          ]
        }
      ]
    },
    {
      "cell_type": "code",
      "source": [
        "!cmake .\n",
        "!make"
      ],
      "metadata": {
        "colab": {
          "base_uri": "https://localhost:8080/"
        },
        "id": "w5M0FjL-Y1In",
        "outputId": "5d4ed689-ca3e-4116-8ff8-adab57f13227"
      },
      "execution_count": 10,
      "outputs": [
        {
          "output_type": "stream",
          "name": "stdout",
          "text": [
            "\u001b[0mCMake Deprecation Warning at CMakeLists.txt:1 (cmake_minimum_required):\n",
            "  Compatibility with CMake < 3.5 will be removed from a future version of\n",
            "  CMake.\n",
            "\n",
            "  Update the VERSION argument <min> value or use a ...<max> suffix to tell\n",
            "  CMake that the project does not need compatibility with older versions.\n",
            "\n",
            "\u001b[0m\n",
            "-- The C compiler identification is GNU 11.4.0\n",
            "-- The CXX compiler identification is GNU 11.4.0\n",
            "-- Detecting C compiler ABI info\n",
            "-- Detecting C compiler ABI info - done\n",
            "-- Check for working C compiler: /usr/bin/cc - skipped\n",
            "-- Detecting C compile features\n",
            "-- Detecting C compile features - done\n",
            "-- Detecting CXX compiler ABI info\n",
            "-- Detecting CXX compiler ABI info - done\n",
            "-- Check for working CXX compiler: /usr/bin/c++ - skipped\n",
            "-- Detecting CXX compile features\n",
            "-- Detecting CXX compile features - done\n",
            "-- Found OpenCV: /usr (found version \"4.5.4\") \n",
            "-- Configuring done (1.0s)\n",
            "-- Generating done (0.0s)\n",
            "-- Build files have been written to: /content\n",
            "[ 50%] \u001b[32mBuilding CXX object CMakeFiles/DisplayImage.dir/DisplayImage.cpp.o\u001b[0m\n",
            "[100%] \u001b[32m\u001b[1mLinking CXX executable DisplayImage\u001b[0m\n",
            "[100%] Built target DisplayImage\n"
          ]
        }
      ]
    },
    {
      "cell_type": "code",
      "source": [],
      "metadata": {
        "id": "2j-m4SBRZCtj"
      },
      "execution_count": null,
      "outputs": []
    }
  ]
}